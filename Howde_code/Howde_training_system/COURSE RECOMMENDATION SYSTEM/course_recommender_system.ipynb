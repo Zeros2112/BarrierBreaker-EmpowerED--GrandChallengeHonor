{
 "cells": [
  {
   "cell_type": "markdown",
   "metadata": {
    "id": "Lzk7iX_CodX6",
    "tags": []
   },
   "source": [
    "# <img align=\"left\" src=\"./images/film_strip_vertical.png\"     style=\" width:40px;  \" > Practice lab: Deep Learning for Content-Based Filtering\n",
    "\n",
    "In this exercise, you will implement content-based filtering using a neural network to build a recommender system for movies. \n",
    "\n",
    "\n",
    "# Outline\n",
    "- [ 1 - Packages ](#1)\n",
    "- [ 2 - Movie ratings dataset ](#2)\n",
    "- [ 3 - Content-based filtering with a neural network](#3)\n",
    "  - [ 3.1 Training Data](#3.1)\n",
    "  - [ 3.2 Preparing the training data](#3.2)\n",
    "- [ 4 - Neural Network for content-based filtering](#4)\n",
    "  - [ Exercise 1](#ex01)\n",
    "- [ 5 - Predictions](#5)\n",
    "  - [ 5.1 - Predictions for a new user](#5.1)\n",
    "  - [ 5.2 - Predictions for an existing user.](#5.2)\n",
    "  - [ 5.3 - Finding Similar Items](#5.3)\n",
    "    - [ Exercise 2](#ex02)\n",
    "- [ 6 - Congratulations! ](#6)\n"
   ]
  },
  {
   "cell_type": "markdown",
   "metadata": {},
   "source": [
    "_**NOTE:** To prevent errors from the autograder, you are not allowed to edit or delete non-graded cells in this lab. Please also refrain from adding any new cells. \n",
    "**Once you have passed this assignment** and want to experiment with any of the non-graded code, you may follow the instructions at the bottom of this notebook._"
   ]
  },
  {
   "cell_type": "markdown",
   "metadata": {},
   "source": [
    "<a name=\"1\"></a>\n",
    "## 1 - Packages <img align=\"left\" src=\"./images/movie_camera.png\"     style=\" width:40px;  \">\n",
    "We will use familiar packages, NumPy, TensorFlow and helpful routines from [scikit-learn](https://scikit-learn.org/stable/). We will also use [tabulate](https://pypi.org/project/tabulate/) to neatly print tables and [Pandas](https://pandas.pydata.org/) to organize tabular data."
   ]
  },
  {
   "cell_type": "code",
   "execution_count": 1,
   "metadata": {
    "deletable": false,
    "editable": false,
    "id": "Xu-w_RmNwCV5"
   },
   "outputs": [],
   "source": [
    "import numpy as np\n",
    "import numpy.ma as ma\n",
    "import pandas as pd\n",
    "import tensorflow as tf\n",
    "from tensorflow import keras\n",
    "from sklearn.preprocessing import StandardScaler, MinMaxScaler\n",
    "from sklearn.model_selection import train_test_split\n",
    "import tabulate\n",
    "from recsysNN_utils import *\n",
    "pd.set_option(\"display.precision\", 1)"
   ]
  },
  {
   "cell_type": "markdown",
   "metadata": {},
   "source": [
    "<a name=\"2\"></a>\n",
    "## 2 - Course ratings dataset <img align=\"left\" src=\"./images/film_rating.png\" style=\" width:40px;\" >\n",
    "The data set is created ON OUR OWN using different sources from coursera, kaggle, udemy, edX, Linkedln,etc.  \n",
    "\n",
    "\n",
    "This dataset has $n_u = 397$ users, $n_m= 847$ online courses and 25521 ratings. For each courses, the dataset provides a course title, release date, and one or more genres. For example \"\"Digital Electronics - RoboGrok Automation\" by Terry Sturtevant\" has several genres: \"Arts-And-Humanities|Language-Learning|Electrical-And-Mechanical-Engineering\". This dataset contains little information about users other than their ratings. This dataset is used to create training vectors for the neural networks described below. \n"
   ]
  },
  {
   "cell_type": "code",
   "execution_count": 2,
   "metadata": {
    "deletable": false,
    "editable": false,
    "id": "M5gfMLYgxCD1"
   },
   "outputs": [
    {
     "name": "stdout",
     "output_type": "stream",
     "text": [
      "Skipping line 847 due to insufficient columns.\n",
      "Number of training vectors: 50884\n"
     ]
    }
   ],
   "source": [
    "# Load Data, set configuration variables\n",
    "item_train, user_train, y_train, item_features, user_features, item_vecs, movie_dict, user_to_genre = load_data()\n",
    "\n",
    "num_user_features = user_train.shape[1] - 3  # remove userid, rating count and ave rating during training\n",
    "num_item_features = item_train.shape[1] - 1  # remove movie id at train time\n",
    "uvs = 3  # user genre vector start\n",
    "ivs = 3  # item genre vector start\n",
    "u_s = 3  # start of columns to use in training, user\n",
    "i_s = 1  # start of columns to use in training, items\n",
    "print(f\"Number of training vectors: {len(item_train)}\")"
   ]
  },
  {
   "cell_type": "markdown",
   "metadata": {},
   "source": [
    "Let's look at the first few entries in the user training array."
   ]
  },
  {
   "cell_type": "code",
   "execution_count": 3,
   "metadata": {
    "deletable": false,
    "editable": false
   },
   "outputs": [
    {
     "data": {
      "text/html": [
       "<table>\n",
       "<thead>\n",
       "<tr><th style=\"text-align: center;\"> [user id] </th><th style=\"text-align: center;\"> [rating count] </th><th style=\"text-align: center;\"> [rating ave] </th><th style=\"text-align: center;\"> Course-D ifficulty </th><th style=\"text-align: center;\"> Business-An d-Management </th><th style=\"text-align: center;\"> Des ign </th><th style=\"text-align: center;\"> Environmen tal-Science </th><th style=\"text-align: center;\"> Arts-And- Humanities </th><th style=\"text-align: center;\"> Computer -Science </th><th style=\"text-align: center;\"> Data-S cience </th><th style=\"text-align: center;\"> Math-An d-Logic </th><th style=\"text-align: center;\"> Language -Learning </th><th style=\"text-align: center;\"> Hea lth </th><th style=\"text-align: center;\"> Social- Science </th><th style=\"text-align: center;\"> Electrical-And-Mec hanical-Engineering </th><th style=\"text-align: center;\"> Digital- Marketing </th><th style=\"text-align: center;\"> Physics-An d-Astronomy </th></tr>\n",
       "</thead>\n",
       "<tbody>\n",
       "<tr><td style=\"text-align: center;\">     2     </td><td style=\"text-align: center;\">       22       </td><td style=\"text-align: center;\">     4.0      </td><td style=\"text-align: center;\">        4.0         </td><td style=\"text-align: center;\">           4.2            </td><td style=\"text-align: center;\">   0.0   </td><td style=\"text-align: center;\">          0.0           </td><td style=\"text-align: center;\">         4.0          </td><td style=\"text-align: center;\">        4.1        </td><td style=\"text-align: center;\">      4.0      </td><td style=\"text-align: center;\">       4.0       </td><td style=\"text-align: center;\">        0.0         </td><td style=\"text-align: center;\">   3.0   </td><td style=\"text-align: center;\">       4.0       </td><td style=\"text-align: center;\">                  0.0                   </td><td style=\"text-align: center;\">        3.9         </td><td style=\"text-align: center;\">          3.9           </td></tr>\n",
       "<tr><td style=\"text-align: center;\">     2     </td><td style=\"text-align: center;\">       22       </td><td style=\"text-align: center;\">     4.0      </td><td style=\"text-align: center;\">        4.0         </td><td style=\"text-align: center;\">           4.2            </td><td style=\"text-align: center;\">   0.0   </td><td style=\"text-align: center;\">          0.0           </td><td style=\"text-align: center;\">         4.0          </td><td style=\"text-align: center;\">        4.1        </td><td style=\"text-align: center;\">      4.0      </td><td style=\"text-align: center;\">       4.0       </td><td style=\"text-align: center;\">        0.0         </td><td style=\"text-align: center;\">   3.0   </td><td style=\"text-align: center;\">       4.0       </td><td style=\"text-align: center;\">                  0.0                   </td><td style=\"text-align: center;\">        3.9         </td><td style=\"text-align: center;\">          3.9           </td></tr>\n",
       "<tr><td style=\"text-align: center;\">     2     </td><td style=\"text-align: center;\">       22       </td><td style=\"text-align: center;\">     4.0      </td><td style=\"text-align: center;\">        4.0         </td><td style=\"text-align: center;\">           4.2            </td><td style=\"text-align: center;\">   0.0   </td><td style=\"text-align: center;\">          0.0           </td><td style=\"text-align: center;\">         4.0          </td><td style=\"text-align: center;\">        4.1        </td><td style=\"text-align: center;\">      4.0      </td><td style=\"text-align: center;\">       4.0       </td><td style=\"text-align: center;\">        0.0         </td><td style=\"text-align: center;\">   3.0   </td><td style=\"text-align: center;\">       4.0       </td><td style=\"text-align: center;\">                  0.0                   </td><td style=\"text-align: center;\">        3.9         </td><td style=\"text-align: center;\">          3.9           </td></tr>\n",
       "<tr><td style=\"text-align: center;\">     2     </td><td style=\"text-align: center;\">       22       </td><td style=\"text-align: center;\">     4.0      </td><td style=\"text-align: center;\">        4.0         </td><td style=\"text-align: center;\">           4.2            </td><td style=\"text-align: center;\">   0.0   </td><td style=\"text-align: center;\">          0.0           </td><td style=\"text-align: center;\">         4.0          </td><td style=\"text-align: center;\">        4.1        </td><td style=\"text-align: center;\">      4.0      </td><td style=\"text-align: center;\">       4.0       </td><td style=\"text-align: center;\">        0.0         </td><td style=\"text-align: center;\">   3.0   </td><td style=\"text-align: center;\">       4.0       </td><td style=\"text-align: center;\">                  0.0                   </td><td style=\"text-align: center;\">        3.9         </td><td style=\"text-align: center;\">          3.9           </td></tr>\n",
       "<tr><td style=\"text-align: center;\">     2     </td><td style=\"text-align: center;\">       22       </td><td style=\"text-align: center;\">     4.0      </td><td style=\"text-align: center;\">        4.0         </td><td style=\"text-align: center;\">           4.2            </td><td style=\"text-align: center;\">   0.0   </td><td style=\"text-align: center;\">          0.0           </td><td style=\"text-align: center;\">         4.0          </td><td style=\"text-align: center;\">        4.1        </td><td style=\"text-align: center;\">      4.0      </td><td style=\"text-align: center;\">       4.0       </td><td style=\"text-align: center;\">        0.0         </td><td style=\"text-align: center;\">   3.0   </td><td style=\"text-align: center;\">       4.0       </td><td style=\"text-align: center;\">                  0.0                   </td><td style=\"text-align: center;\">        3.9         </td><td style=\"text-align: center;\">          3.9           </td></tr>\n",
       "</tbody>\n",
       "</table>"
      ],
      "text/plain": [
       "'<table>\\n<thead>\\n<tr><th style=\"text-align: center;\"> [user id] </th><th style=\"text-align: center;\"> [rating count] </th><th style=\"text-align: center;\"> [rating ave] </th><th style=\"text-align: center;\"> Course-D ifficulty </th><th style=\"text-align: center;\"> Business-An d-Management </th><th style=\"text-align: center;\"> Des ign </th><th style=\"text-align: center;\"> Environmen tal-Science </th><th style=\"text-align: center;\"> Arts-And- Humanities </th><th style=\"text-align: center;\"> Computer -Science </th><th style=\"text-align: center;\"> Data-S cience </th><th style=\"text-align: center;\"> Math-An d-Logic </th><th style=\"text-align: center;\"> Language -Learning </th><th style=\"text-align: center;\"> Hea lth </th><th style=\"text-align: center;\"> Social- Science </th><th style=\"text-align: center;\"> Electrical-And-Mec hanical-Engineering </th><th style=\"text-align: center;\"> Digital- Marketing </th><th style=\"text-align: center;\"> Physics-An d-Astronomy </th></tr>\\n</thead>\\n<tbody>\\n<tr><td style=\"text-align: center;\">     2     </td><td style=\"text-align: center;\">       22       </td><td style=\"text-align: center;\">     4.0      </td><td style=\"text-align: center;\">        4.0         </td><td style=\"text-align: center;\">           4.2            </td><td style=\"text-align: center;\">   0.0   </td><td style=\"text-align: center;\">          0.0           </td><td style=\"text-align: center;\">         4.0          </td><td style=\"text-align: center;\">        4.1        </td><td style=\"text-align: center;\">      4.0      </td><td style=\"text-align: center;\">       4.0       </td><td style=\"text-align: center;\">        0.0         </td><td style=\"text-align: center;\">   3.0   </td><td style=\"text-align: center;\">       4.0       </td><td style=\"text-align: center;\">                  0.0                   </td><td style=\"text-align: center;\">        3.9         </td><td style=\"text-align: center;\">          3.9           </td></tr>\\n<tr><td style=\"text-align: center;\">     2     </td><td style=\"text-align: center;\">       22       </td><td style=\"text-align: center;\">     4.0      </td><td style=\"text-align: center;\">        4.0         </td><td style=\"text-align: center;\">           4.2            </td><td style=\"text-align: center;\">   0.0   </td><td style=\"text-align: center;\">          0.0           </td><td style=\"text-align: center;\">         4.0          </td><td style=\"text-align: center;\">        4.1        </td><td style=\"text-align: center;\">      4.0      </td><td style=\"text-align: center;\">       4.0       </td><td style=\"text-align: center;\">        0.0         </td><td style=\"text-align: center;\">   3.0   </td><td style=\"text-align: center;\">       4.0       </td><td style=\"text-align: center;\">                  0.0                   </td><td style=\"text-align: center;\">        3.9         </td><td style=\"text-align: center;\">          3.9           </td></tr>\\n<tr><td style=\"text-align: center;\">     2     </td><td style=\"text-align: center;\">       22       </td><td style=\"text-align: center;\">     4.0      </td><td style=\"text-align: center;\">        4.0         </td><td style=\"text-align: center;\">           4.2            </td><td style=\"text-align: center;\">   0.0   </td><td style=\"text-align: center;\">          0.0           </td><td style=\"text-align: center;\">         4.0          </td><td style=\"text-align: center;\">        4.1        </td><td style=\"text-align: center;\">      4.0      </td><td style=\"text-align: center;\">       4.0       </td><td style=\"text-align: center;\">        0.0         </td><td style=\"text-align: center;\">   3.0   </td><td style=\"text-align: center;\">       4.0       </td><td style=\"text-align: center;\">                  0.0                   </td><td style=\"text-align: center;\">        3.9         </td><td style=\"text-align: center;\">          3.9           </td></tr>\\n<tr><td style=\"text-align: center;\">     2     </td><td style=\"text-align: center;\">       22       </td><td style=\"text-align: center;\">     4.0      </td><td style=\"text-align: center;\">        4.0         </td><td style=\"text-align: center;\">           4.2            </td><td style=\"text-align: center;\">   0.0   </td><td style=\"text-align: center;\">          0.0           </td><td style=\"text-align: center;\">         4.0          </td><td style=\"text-align: center;\">        4.1        </td><td style=\"text-align: center;\">      4.0      </td><td style=\"text-align: center;\">       4.0       </td><td style=\"text-align: center;\">        0.0         </td><td style=\"text-align: center;\">   3.0   </td><td style=\"text-align: center;\">       4.0       </td><td style=\"text-align: center;\">                  0.0                   </td><td style=\"text-align: center;\">        3.9         </td><td style=\"text-align: center;\">          3.9           </td></tr>\\n<tr><td style=\"text-align: center;\">     2     </td><td style=\"text-align: center;\">       22       </td><td style=\"text-align: center;\">     4.0      </td><td style=\"text-align: center;\">        4.0         </td><td style=\"text-align: center;\">           4.2            </td><td style=\"text-align: center;\">   0.0   </td><td style=\"text-align: center;\">          0.0           </td><td style=\"text-align: center;\">         4.0          </td><td style=\"text-align: center;\">        4.1        </td><td style=\"text-align: center;\">      4.0      </td><td style=\"text-align: center;\">       4.0       </td><td style=\"text-align: center;\">        0.0         </td><td style=\"text-align: center;\">   3.0   </td><td style=\"text-align: center;\">       4.0       </td><td style=\"text-align: center;\">                  0.0                   </td><td style=\"text-align: center;\">        3.9         </td><td style=\"text-align: center;\">          3.9           </td></tr>\\n</tbody>\\n</table>'"
      ]
     },
     "execution_count": 3,
     "metadata": {},
     "output_type": "execute_result"
    }
   ],
   "source": [
    "pprint_train(user_train, user_features, uvs,  u_s, maxcount=5)"
   ]
  },
  {
   "cell_type": "code",
   "execution_count": 4,
   "metadata": {
    "deletable": false,
    "editable": false
   },
   "outputs": [
    {
     "data": {
      "text/html": [
       "<table>\n",
       "<thead>\n",
       "<tr><th style=\"text-align: center;\"> [course id] </th><th style=\"text-align: center;\"> year </th><th style=\"text-align: center;\"> ave rating </th><th style=\"text-align: center;\"> Course-D ifficulty </th><th style=\"text-align: center;\"> Business-An d-Management </th><th style=\"text-align: center;\"> Des ign </th><th style=\"text-align: center;\"> Environmen tal-Science </th><th style=\"text-align: center;\"> Arts-And- Humanities </th><th style=\"text-align: center;\"> Computer -Science </th><th style=\"text-align: center;\"> Data-S cience </th><th style=\"text-align: center;\"> Math-An d-Logic </th><th style=\"text-align: center;\"> Language -Learning </th><th style=\"text-align: center;\"> Hea lth </th><th style=\"text-align: center;\"> Social- Science </th><th style=\"text-align: center;\"> Electrical-And-Mec hanical-Engineering </th><th style=\"text-align: center;\"> Digital- Marketing </th><th style=\"text-align: center;\"> Physics-An d-Astronomy </th></tr>\n",
       "</thead>\n",
       "<tbody>\n",
       "<tr><td style=\"text-align: center;\">    6874     </td><td style=\"text-align: center;\"> 2003 </td><td style=\"text-align: center;\">    4.0     </td><td style=\"text-align: center;\">         1          </td><td style=\"text-align: center;\">            0             </td><td style=\"text-align: center;\">    0    </td><td style=\"text-align: center;\">           0            </td><td style=\"text-align: center;\">          0           </td><td style=\"text-align: center;\">         1         </td><td style=\"text-align: center;\">       0       </td><td style=\"text-align: center;\">        0        </td><td style=\"text-align: center;\">         0          </td><td style=\"text-align: center;\">    0    </td><td style=\"text-align: center;\">        0        </td><td style=\"text-align: center;\">                   0                    </td><td style=\"text-align: center;\">         0          </td><td style=\"text-align: center;\">           1            </td></tr>\n",
       "<tr><td style=\"text-align: center;\">    8798     </td><td style=\"text-align: center;\"> 2004 </td><td style=\"text-align: center;\">    3.8     </td><td style=\"text-align: center;\">         1          </td><td style=\"text-align: center;\">            0             </td><td style=\"text-align: center;\">    0    </td><td style=\"text-align: center;\">           0            </td><td style=\"text-align: center;\">          0           </td><td style=\"text-align: center;\">         1         </td><td style=\"text-align: center;\">       0       </td><td style=\"text-align: center;\">        1        </td><td style=\"text-align: center;\">         0          </td><td style=\"text-align: center;\">    0    </td><td style=\"text-align: center;\">        0        </td><td style=\"text-align: center;\">                   0                    </td><td style=\"text-align: center;\">         0          </td><td style=\"text-align: center;\">           1            </td></tr>\n",
       "<tr><td style=\"text-align: center;\">    46970    </td><td style=\"text-align: center;\"> 2006 </td><td style=\"text-align: center;\">    3.2     </td><td style=\"text-align: center;\">         1          </td><td style=\"text-align: center;\">            0             </td><td style=\"text-align: center;\">    0    </td><td style=\"text-align: center;\">           0            </td><td style=\"text-align: center;\">          1           </td><td style=\"text-align: center;\">         0         </td><td style=\"text-align: center;\">       0       </td><td style=\"text-align: center;\">        0        </td><td style=\"text-align: center;\">         0          </td><td style=\"text-align: center;\">    0    </td><td style=\"text-align: center;\">        0        </td><td style=\"text-align: center;\">                   0                    </td><td style=\"text-align: center;\">         0          </td><td style=\"text-align: center;\">           0            </td></tr>\n",
       "<tr><td style=\"text-align: center;\">    48516    </td><td style=\"text-align: center;\"> 2006 </td><td style=\"text-align: center;\">    4.3     </td><td style=\"text-align: center;\">         0          </td><td style=\"text-align: center;\">            0             </td><td style=\"text-align: center;\">    0    </td><td style=\"text-align: center;\">           0            </td><td style=\"text-align: center;\">          0           </td><td style=\"text-align: center;\">         1         </td><td style=\"text-align: center;\">       0       </td><td style=\"text-align: center;\">        1        </td><td style=\"text-align: center;\">         0          </td><td style=\"text-align: center;\">    0    </td><td style=\"text-align: center;\">        0        </td><td style=\"text-align: center;\">                   0                    </td><td style=\"text-align: center;\">         0          </td><td style=\"text-align: center;\">           1            </td></tr>\n",
       "<tr><td style=\"text-align: center;\">    58559    </td><td style=\"text-align: center;\"> 2008 </td><td style=\"text-align: center;\">    4.2     </td><td style=\"text-align: center;\">         1          </td><td style=\"text-align: center;\">            0             </td><td style=\"text-align: center;\">    0    </td><td style=\"text-align: center;\">           0            </td><td style=\"text-align: center;\">          0           </td><td style=\"text-align: center;\">         1         </td><td style=\"text-align: center;\">       0       </td><td style=\"text-align: center;\">        1        </td><td style=\"text-align: center;\">         0          </td><td style=\"text-align: center;\">    0    </td><td style=\"text-align: center;\">        0        </td><td style=\"text-align: center;\">                   0                    </td><td style=\"text-align: center;\">         0          </td><td style=\"text-align: center;\">           0            </td></tr>\n",
       "</tbody>\n",
       "</table>"
      ],
      "text/plain": [
       "'<table>\\n<thead>\\n<tr><th style=\"text-align: center;\"> [course id] </th><th style=\"text-align: center;\"> year </th><th style=\"text-align: center;\"> ave rating </th><th style=\"text-align: center;\"> Course-D ifficulty </th><th style=\"text-align: center;\"> Business-An d-Management </th><th style=\"text-align: center;\"> Des ign </th><th style=\"text-align: center;\"> Environmen tal-Science </th><th style=\"text-align: center;\"> Arts-And- Humanities </th><th style=\"text-align: center;\"> Computer -Science </th><th style=\"text-align: center;\"> Data-S cience </th><th style=\"text-align: center;\"> Math-An d-Logic </th><th style=\"text-align: center;\"> Language -Learning </th><th style=\"text-align: center;\"> Hea lth </th><th style=\"text-align: center;\"> Social- Science </th><th style=\"text-align: center;\"> Electrical-And-Mec hanical-Engineering </th><th style=\"text-align: center;\"> Digital- Marketing </th><th style=\"text-align: center;\"> Physics-An d-Astronomy </th></tr>\\n</thead>\\n<tbody>\\n<tr><td style=\"text-align: center;\">    6874     </td><td style=\"text-align: center;\"> 2003 </td><td style=\"text-align: center;\">    4.0     </td><td style=\"text-align: center;\">         1          </td><td style=\"text-align: center;\">            0             </td><td style=\"text-align: center;\">    0    </td><td style=\"text-align: center;\">           0            </td><td style=\"text-align: center;\">          0           </td><td style=\"text-align: center;\">         1         </td><td style=\"text-align: center;\">       0       </td><td style=\"text-align: center;\">        0        </td><td style=\"text-align: center;\">         0          </td><td style=\"text-align: center;\">    0    </td><td style=\"text-align: center;\">        0        </td><td style=\"text-align: center;\">                   0                    </td><td style=\"text-align: center;\">         0          </td><td style=\"text-align: center;\">           1            </td></tr>\\n<tr><td style=\"text-align: center;\">    8798     </td><td style=\"text-align: center;\"> 2004 </td><td style=\"text-align: center;\">    3.8     </td><td style=\"text-align: center;\">         1          </td><td style=\"text-align: center;\">            0             </td><td style=\"text-align: center;\">    0    </td><td style=\"text-align: center;\">           0            </td><td style=\"text-align: center;\">          0           </td><td style=\"text-align: center;\">         1         </td><td style=\"text-align: center;\">       0       </td><td style=\"text-align: center;\">        1        </td><td style=\"text-align: center;\">         0          </td><td style=\"text-align: center;\">    0    </td><td style=\"text-align: center;\">        0        </td><td style=\"text-align: center;\">                   0                    </td><td style=\"text-align: center;\">         0          </td><td style=\"text-align: center;\">           1            </td></tr>\\n<tr><td style=\"text-align: center;\">    46970    </td><td style=\"text-align: center;\"> 2006 </td><td style=\"text-align: center;\">    3.2     </td><td style=\"text-align: center;\">         1          </td><td style=\"text-align: center;\">            0             </td><td style=\"text-align: center;\">    0    </td><td style=\"text-align: center;\">           0            </td><td style=\"text-align: center;\">          1           </td><td style=\"text-align: center;\">         0         </td><td style=\"text-align: center;\">       0       </td><td style=\"text-align: center;\">        0        </td><td style=\"text-align: center;\">         0          </td><td style=\"text-align: center;\">    0    </td><td style=\"text-align: center;\">        0        </td><td style=\"text-align: center;\">                   0                    </td><td style=\"text-align: center;\">         0          </td><td style=\"text-align: center;\">           0            </td></tr>\\n<tr><td style=\"text-align: center;\">    48516    </td><td style=\"text-align: center;\"> 2006 </td><td style=\"text-align: center;\">    4.3     </td><td style=\"text-align: center;\">         0          </td><td style=\"text-align: center;\">            0             </td><td style=\"text-align: center;\">    0    </td><td style=\"text-align: center;\">           0            </td><td style=\"text-align: center;\">          0           </td><td style=\"text-align: center;\">         1         </td><td style=\"text-align: center;\">       0       </td><td style=\"text-align: center;\">        1        </td><td style=\"text-align: center;\">         0          </td><td style=\"text-align: center;\">    0    </td><td style=\"text-align: center;\">        0        </td><td style=\"text-align: center;\">                   0                    </td><td style=\"text-align: center;\">         0          </td><td style=\"text-align: center;\">           1            </td></tr>\\n<tr><td style=\"text-align: center;\">    58559    </td><td style=\"text-align: center;\"> 2008 </td><td style=\"text-align: center;\">    4.2     </td><td style=\"text-align: center;\">         1          </td><td style=\"text-align: center;\">            0             </td><td style=\"text-align: center;\">    0    </td><td style=\"text-align: center;\">           0            </td><td style=\"text-align: center;\">          0           </td><td style=\"text-align: center;\">         1         </td><td style=\"text-align: center;\">       0       </td><td style=\"text-align: center;\">        1        </td><td style=\"text-align: center;\">         0          </td><td style=\"text-align: center;\">    0    </td><td style=\"text-align: center;\">        0        </td><td style=\"text-align: center;\">                   0                    </td><td style=\"text-align: center;\">         0          </td><td style=\"text-align: center;\">           0            </td></tr>\\n</tbody>\\n</table>'"
      ]
     },
     "execution_count": 4,
     "metadata": {},
     "output_type": "execute_result"
    }
   ],
   "source": [
    "pprint_train(item_train, item_features, ivs, i_s, maxcount=5, user=False)"
   ]
  },
  {
   "cell_type": "markdown",
   "metadata": {},
   "source": [
    "Above, the course array contains the year the course was released, the average rating and an indicator for each potential genre. The indicator is one for each genre that applies to the course. The course id is not used in training but is useful when interpreting the data."
   ]
  },
  {
   "cell_type": "code",
   "execution_count": 5,
   "metadata": {
    "deletable": false,
    "editable": false
   },
   "outputs": [
    {
     "name": "stdout",
     "output_type": "stream",
     "text": [
      "y_train[:5]: [4.  3.5 4.  4.  4.5]\n"
     ]
    }
   ],
   "source": [
    "print(f\"y_train[:5]: {y_train[:5]}\")"
   ]
  },
  {
   "cell_type": "markdown",
   "metadata": {},
   "source": [
    "The target, y, is the movie rating given by the user. "
   ]
  },
  {
   "cell_type": "code",
   "execution_count": 6,
   "metadata": {
    "deletable": false,
    "editable": false
   },
   "outputs": [
    {
     "name": "stdout",
     "output_type": "stream",
     "text": [
      "True\n",
      "True\n"
     ]
    }
   ],
   "source": [
    "# scale training data\n",
    "item_train_unscaled = item_train\n",
    "user_train_unscaled = user_train\n",
    "y_train_unscaled    = y_train\n",
    "\n",
    "scalerItem = StandardScaler()\n",
    "scalerItem.fit(item_train)\n",
    "item_train = scalerItem.transform(item_train)\n",
    "\n",
    "scalerUser = StandardScaler()\n",
    "scalerUser.fit(user_train)\n",
    "user_train = scalerUser.transform(user_train)\n",
    "\n",
    "scalerTarget = MinMaxScaler((-1, 1))\n",
    "scalerTarget.fit(y_train.reshape(-1, 1))\n",
    "y_train = scalerTarget.transform(y_train.reshape(-1, 1))\n",
    "#ynorm_test = scalerTarget.transform(y_test.reshape(-1, 1))\n"
   ]
  },
  {
   "cell_type": "markdown",
   "metadata": {},
   "source": [
    "To allow us to evaluate the results, we will split the data into training and test sets as was discussed in Course 2, Week 3. Here we will use [sklean train_test_split](https://scikit-learn.org/stable/modules/generated/sklearn.model_selection.train_test_split.html) to split and shuffle the data. Note that setting the initial random state to the same value ensures item, user, and y are shuffled identically."
   ]
  },
  {
   "cell_type": "code",
   "execution_count": 7,
   "metadata": {
    "deletable": false,
    "editable": false
   },
   "outputs": [
    {
     "name": "stdout",
     "output_type": "stream",
     "text": [
      "movie/item training data shape: (40707, 17)\n",
      "movie/item test data shape: (10177, 17)\n"
     ]
    }
   ],
   "source": [
    "item_train, item_test = train_test_split(item_train, train_size=0.80, shuffle=True, random_state=1)\n",
    "user_train, user_test = train_test_split(user_train, train_size=0.80, shuffle=True, random_state=1)\n",
    "y_train, y_test       = train_test_split(y_train,    train_size=0.80, shuffle=True, random_state=1)\n",
    "print(f\"movie/item training data shape: {item_train.shape}\")\n",
    "print(f\"movie/item test data shape: {item_test.shape}\")"
   ]
  },
  {
   "cell_type": "markdown",
   "metadata": {},
   "source": [
    "The scaled, shuffled data now has a mean of zero."
   ]
  },
  {
   "cell_type": "code",
   "execution_count": 8,
   "metadata": {
    "deletable": false,
    "editable": false
   },
   "outputs": [
    {
     "data": {
      "text/html": [
       "<table>\n",
       "<thead>\n",
       "<tr><th style=\"text-align: center;\"> [user id] </th><th style=\"text-align: center;\"> [rating count] </th><th style=\"text-align: center;\"> [rating ave] </th><th style=\"text-align: center;\"> Course-D ifficulty </th><th style=\"text-align: center;\"> Business-An d-Management </th><th style=\"text-align: center;\"> Des ign </th><th style=\"text-align: center;\"> Environmen tal-Science </th><th style=\"text-align: center;\"> Arts-And- Humanities </th><th style=\"text-align: center;\"> Computer -Science </th><th style=\"text-align: center;\"> Data-S cience </th><th style=\"text-align: center;\"> Math-An d-Logic </th><th style=\"text-align: center;\"> Language -Learning </th><th style=\"text-align: center;\"> Hea lth </th><th style=\"text-align: center;\"> Social- Science </th><th style=\"text-align: center;\"> Electrical-And-Mec hanical-Engineering </th><th style=\"text-align: center;\"> Digital- Marketing </th><th style=\"text-align: center;\"> Physics-An d-Astronomy </th></tr>\n",
       "</thead>\n",
       "<tbody>\n",
       "<tr><td style=\"text-align: center;\">     1     </td><td style=\"text-align: center;\">       0        </td><td style=\"text-align: center;\">     -1.0     </td><td style=\"text-align: center;\">        -0.8        </td><td style=\"text-align: center;\">           -0.7           </td><td style=\"text-align: center;\">   0.1   </td><td style=\"text-align: center;\">          -0.0          </td><td style=\"text-align: center;\">         -1.2         </td><td style=\"text-align: center;\">       -0.4        </td><td style=\"text-align: center;\">      0.6      </td><td style=\"text-align: center;\">      -0.5       </td><td style=\"text-align: center;\">        -0.5        </td><td style=\"text-align: center;\">  -0.1   </td><td style=\"text-align: center;\">      -0.6       </td><td style=\"text-align: center;\">                  -0.6                  </td><td style=\"text-align: center;\">        -0.7        </td><td style=\"text-align: center;\">          -0.7          </td></tr>\n",
       "<tr><td style=\"text-align: center;\">     0     </td><td style=\"text-align: center;\">       1        </td><td style=\"text-align: center;\">     -0.7     </td><td style=\"text-align: center;\">        -0.5        </td><td style=\"text-align: center;\">           -0.7           </td><td style=\"text-align: center;\">  -0.1   </td><td style=\"text-align: center;\">          -0.2          </td><td style=\"text-align: center;\">         -0.6         </td><td style=\"text-align: center;\">       -0.2        </td><td style=\"text-align: center;\">      0.7      </td><td style=\"text-align: center;\">      -0.5       </td><td style=\"text-align: center;\">        -0.8        </td><td style=\"text-align: center;\">   0.1   </td><td style=\"text-align: center;\">      -0.0       </td><td style=\"text-align: center;\">                  -0.6                  </td><td style=\"text-align: center;\">        -0.5        </td><td style=\"text-align: center;\">          -0.4          </td></tr>\n",
       "<tr><td style=\"text-align: center;\">    -1     </td><td style=\"text-align: center;\">       -1       </td><td style=\"text-align: center;\">     -0.2     </td><td style=\"text-align: center;\">        0.3         </td><td style=\"text-align: center;\">           -0.4           </td><td style=\"text-align: center;\">   0.4   </td><td style=\"text-align: center;\">          0.5           </td><td style=\"text-align: center;\">         1.0          </td><td style=\"text-align: center;\">        0.6        </td><td style=\"text-align: center;\">     -1.2      </td><td style=\"text-align: center;\">      -0.3       </td><td style=\"text-align: center;\">        -0.6        </td><td style=\"text-align: center;\">  -2.3   </td><td style=\"text-align: center;\">      -0.1       </td><td style=\"text-align: center;\">                  0.0                   </td><td style=\"text-align: center;\">        0.4         </td><td style=\"text-align: center;\">          -0.0          </td></tr>\n",
       "<tr><td style=\"text-align: center;\">     0     </td><td style=\"text-align: center;\">       -1       </td><td style=\"text-align: center;\">     0.6      </td><td style=\"text-align: center;\">        0.5         </td><td style=\"text-align: center;\">           0.5            </td><td style=\"text-align: center;\">   0.2   </td><td style=\"text-align: center;\">          0.6           </td><td style=\"text-align: center;\">         -0.1         </td><td style=\"text-align: center;\">        0.5        </td><td style=\"text-align: center;\">     -1.2      </td><td style=\"text-align: center;\">       0.9       </td><td style=\"text-align: center;\">        1.2         </td><td style=\"text-align: center;\">  -2.3   </td><td style=\"text-align: center;\">      -0.1       </td><td style=\"text-align: center;\">                  0.0                   </td><td style=\"text-align: center;\">        0.2         </td><td style=\"text-align: center;\">          0.3           </td></tr>\n",
       "<tr><td style=\"text-align: center;\">    -1     </td><td style=\"text-align: center;\">       0        </td><td style=\"text-align: center;\">     0.7      </td><td style=\"text-align: center;\">        0.6         </td><td style=\"text-align: center;\">           0.5            </td><td style=\"text-align: center;\">   0.3   </td><td style=\"text-align: center;\">          0.5           </td><td style=\"text-align: center;\">         0.4          </td><td style=\"text-align: center;\">        0.6        </td><td style=\"text-align: center;\">      1.0      </td><td style=\"text-align: center;\">       0.6       </td><td style=\"text-align: center;\">        0.3         </td><td style=\"text-align: center;\">   0.8   </td><td style=\"text-align: center;\">       0.8       </td><td style=\"text-align: center;\">                  0.4                   </td><td style=\"text-align: center;\">        0.7         </td><td style=\"text-align: center;\">          0.7           </td></tr>\n",
       "</tbody>\n",
       "</table>"
      ],
      "text/plain": [
       "'<table>\\n<thead>\\n<tr><th style=\"text-align: center;\"> [user id] </th><th style=\"text-align: center;\"> [rating count] </th><th style=\"text-align: center;\"> [rating ave] </th><th style=\"text-align: center;\"> Course-D ifficulty </th><th style=\"text-align: center;\"> Business-An d-Management </th><th style=\"text-align: center;\"> Des ign </th><th style=\"text-align: center;\"> Environmen tal-Science </th><th style=\"text-align: center;\"> Arts-And- Humanities </th><th style=\"text-align: center;\"> Computer -Science </th><th style=\"text-align: center;\"> Data-S cience </th><th style=\"text-align: center;\"> Math-An d-Logic </th><th style=\"text-align: center;\"> Language -Learning </th><th style=\"text-align: center;\"> Hea lth </th><th style=\"text-align: center;\"> Social- Science </th><th style=\"text-align: center;\"> Electrical-And-Mec hanical-Engineering </th><th style=\"text-align: center;\"> Digital- Marketing </th><th style=\"text-align: center;\"> Physics-An d-Astronomy </th></tr>\\n</thead>\\n<tbody>\\n<tr><td style=\"text-align: center;\">     1     </td><td style=\"text-align: center;\">       0        </td><td style=\"text-align: center;\">     -1.0     </td><td style=\"text-align: center;\">        -0.8        </td><td style=\"text-align: center;\">           -0.7           </td><td style=\"text-align: center;\">   0.1   </td><td style=\"text-align: center;\">          -0.0          </td><td style=\"text-align: center;\">         -1.2         </td><td style=\"text-align: center;\">       -0.4        </td><td style=\"text-align: center;\">      0.6      </td><td style=\"text-align: center;\">      -0.5       </td><td style=\"text-align: center;\">        -0.5        </td><td style=\"text-align: center;\">  -0.1   </td><td style=\"text-align: center;\">      -0.6       </td><td style=\"text-align: center;\">                  -0.6                  </td><td style=\"text-align: center;\">        -0.7        </td><td style=\"text-align: center;\">          -0.7          </td></tr>\\n<tr><td style=\"text-align: center;\">     0     </td><td style=\"text-align: center;\">       1        </td><td style=\"text-align: center;\">     -0.7     </td><td style=\"text-align: center;\">        -0.5        </td><td style=\"text-align: center;\">           -0.7           </td><td style=\"text-align: center;\">  -0.1   </td><td style=\"text-align: center;\">          -0.2          </td><td style=\"text-align: center;\">         -0.6         </td><td style=\"text-align: center;\">       -0.2        </td><td style=\"text-align: center;\">      0.7      </td><td style=\"text-align: center;\">      -0.5       </td><td style=\"text-align: center;\">        -0.8        </td><td style=\"text-align: center;\">   0.1   </td><td style=\"text-align: center;\">      -0.0       </td><td style=\"text-align: center;\">                  -0.6                  </td><td style=\"text-align: center;\">        -0.5        </td><td style=\"text-align: center;\">          -0.4          </td></tr>\\n<tr><td style=\"text-align: center;\">    -1     </td><td style=\"text-align: center;\">       -1       </td><td style=\"text-align: center;\">     -0.2     </td><td style=\"text-align: center;\">        0.3         </td><td style=\"text-align: center;\">           -0.4           </td><td style=\"text-align: center;\">   0.4   </td><td style=\"text-align: center;\">          0.5           </td><td style=\"text-align: center;\">         1.0          </td><td style=\"text-align: center;\">        0.6        </td><td style=\"text-align: center;\">     -1.2      </td><td style=\"text-align: center;\">      -0.3       </td><td style=\"text-align: center;\">        -0.6        </td><td style=\"text-align: center;\">  -2.3   </td><td style=\"text-align: center;\">      -0.1       </td><td style=\"text-align: center;\">                  0.0                   </td><td style=\"text-align: center;\">        0.4         </td><td style=\"text-align: center;\">          -0.0          </td></tr>\\n<tr><td style=\"text-align: center;\">     0     </td><td style=\"text-align: center;\">       -1       </td><td style=\"text-align: center;\">     0.6      </td><td style=\"text-align: center;\">        0.5         </td><td style=\"text-align: center;\">           0.5            </td><td style=\"text-align: center;\">   0.2   </td><td style=\"text-align: center;\">          0.6           </td><td style=\"text-align: center;\">         -0.1         </td><td style=\"text-align: center;\">        0.5        </td><td style=\"text-align: center;\">     -1.2      </td><td style=\"text-align: center;\">       0.9       </td><td style=\"text-align: center;\">        1.2         </td><td style=\"text-align: center;\">  -2.3   </td><td style=\"text-align: center;\">      -0.1       </td><td style=\"text-align: center;\">                  0.0                   </td><td style=\"text-align: center;\">        0.2         </td><td style=\"text-align: center;\">          0.3           </td></tr>\\n<tr><td style=\"text-align: center;\">    -1     </td><td style=\"text-align: center;\">       0        </td><td style=\"text-align: center;\">     0.7      </td><td style=\"text-align: center;\">        0.6         </td><td style=\"text-align: center;\">           0.5            </td><td style=\"text-align: center;\">   0.3   </td><td style=\"text-align: center;\">          0.5           </td><td style=\"text-align: center;\">         0.4          </td><td style=\"text-align: center;\">        0.6        </td><td style=\"text-align: center;\">      1.0      </td><td style=\"text-align: center;\">       0.6       </td><td style=\"text-align: center;\">        0.3         </td><td style=\"text-align: center;\">   0.8   </td><td style=\"text-align: center;\">       0.8       </td><td style=\"text-align: center;\">                  0.4                   </td><td style=\"text-align: center;\">        0.7         </td><td style=\"text-align: center;\">          0.7           </td></tr>\\n</tbody>\\n</table>'"
      ]
     },
     "execution_count": 8,
     "metadata": {},
     "output_type": "execute_result"
    }
   ],
   "source": [
    "pprint_train(user_train, user_features, uvs, u_s, maxcount=5)"
   ]
  },
  {
   "cell_type": "markdown",
   "metadata": {},
   "source": [
    "<a name=\"4\"></a>\n",
    "## 4 - Neural Network for content-based filtering\n",
    "\n"
   ]
  },
  {
   "cell_type": "code",
   "execution_count": 9,
   "metadata": {
    "deletable": false,
    "id": "CBjZ2HhRwpa0"
   },
   "outputs": [
    {
     "name": "stdout",
     "output_type": "stream",
     "text": [
      "Model: \"model\"\n",
      "__________________________________________________________________________________________________\n",
      " Layer (type)                Output Shape                 Param #   Connected to                  \n",
      "==================================================================================================\n",
      " input_1 (InputLayer)        [(None, 14)]                 0         []                            \n",
      "                                                                                                  \n",
      " input_2 (InputLayer)        [(None, 16)]                 0         []                            \n",
      "                                                                                                  \n",
      " sequential (Sequential)     (None, 32)                   40864     ['input_1[0][0]']             \n",
      "                                                                                                  \n",
      " sequential_1 (Sequential)   (None, 32)                   41376     ['input_2[0][0]']             \n",
      "                                                                                                  \n",
      " tf.math.l2_normalize (TFOp  (None, 32)                   0         ['sequential[0][0]']          \n",
      " Lambda)                                                                                          \n",
      "                                                                                                  \n",
      " tf.math.l2_normalize_1 (TF  (None, 32)                   0         ['sequential_1[0][0]']        \n",
      " OpLambda)                                                                                        \n",
      "                                                                                                  \n",
      " dot (Dot)                   (None, 1)                    0         ['tf.math.l2_normalize[0][0]',\n",
      "                                                                     'tf.math.l2_normalize_1[0][0]\n",
      "                                                                    ']                            \n",
      "                                                                                                  \n",
      "==================================================================================================\n",
      "Total params: 82240 (321.25 KB)\n",
      "Trainable params: 82240 (321.25 KB)\n",
      "Non-trainable params: 0 (0.00 Byte)\n",
      "__________________________________________________________________________________________________\n"
     ]
    }
   ],
   "source": [
    "# GRADED_CELL\n",
    "# UNQ_C1\n",
    "\n",
    "num_outputs = 32\n",
    "tf.random.set_seed(1)\n",
    "user_NN = tf.keras.models.Sequential([\n",
    "    ### START CODE HERE ###     \n",
    "    #tf.keras.layers.Dense(512, activation='relu'),\n",
    "    #tf.keras.layers.Dropout(0.5),\n",
    "    tf.keras.layers.Dense(256, activation='relu'),\n",
    "    #tf.keras.layers.Dropout(0.5)\n",
    "    tf.keras.layers.Dense(128, activation='relu'),\n",
    "    \n",
    "    tf.keras.layers.Dense(num_outputs),\n",
    "  \n",
    "  \n",
    "    ### END CODE HERE ###  \n",
    "])\n",
    "\n",
    "item_NN = tf.keras.models.Sequential([\n",
    "    ### START CODE HERE ###     \n",
    "    #tf.keras.layers.Dense(512, activation='relu'),\n",
    "    #tf.keras.layers.Dropout(0.5),\n",
    "    tf.keras.layers.Dense(256, activation='relu'),\n",
    "    #tf.keras.layers.Dropout(0.5)\n",
    "    tf.keras.layers.Dense(128, activation='relu'),\n",
    "    \n",
    "    tf.keras.layers.Dense(num_outputs),\n",
    "  \n",
    "    ### END CODE HERE ###  \n",
    "])\n",
    "\n",
    "# create the user input and point to the base network\n",
    "input_user = tf.keras.layers.Input(shape=(num_user_features))\n",
    "vu = user_NN(input_user)\n",
    "vu = tf.linalg.l2_normalize(vu, axis=1)\n",
    "\n",
    "# create the item input and point to the base network\n",
    "input_item = tf.keras.layers.Input(shape=(num_item_features))\n",
    "vm = item_NN(input_item)\n",
    "vm = tf.linalg.l2_normalize(vm, axis=1)\n",
    "\n",
    "# compute the dot product of the two vectors vu and vm\n",
    "output = tf.keras.layers.Dot(axes=1)([vu, vm])\n",
    "\n",
    "# specify the inputs and output of the model\n",
    "model = tf.keras.Model([input_user, input_item], output)\n",
    "\n",
    "model.summary()"
   ]
  },
  {
   "cell_type": "markdown",
   "metadata": {},
   "source": [
    "<details>\n",
    "  <summary><font size=\"3\" color=\"darkgreen\"><b>Click for hints</b></font></summary>\n",
    "    \n",
    "  You can create a dense layer with a relu activation as shown.\n",
    "    \n",
    "```python     \n",
    "user_NN = tf.keras.models.Sequential([\n",
    "    ### START CODE HERE ###     \n",
    "  tf.keras.layers.Dense(256, activation='relu'),\n",
    "\n",
    "    \n",
    "    ### END CODE HERE ###  \n",
    "])\n",
    "\n",
    "item_NN = tf.keras.models.Sequential([\n",
    "    ### START CODE HERE ###     \n",
    "  tf.keras.layers.Dense(256, activation='relu'),\n",
    "\n",
    "    \n",
    "    ### END CODE HERE ###  \n",
    "])\n",
    "```    \n",
    "<details>\n",
    "    <summary><font size=\"2\" color=\"darkblue\"><b> Click for solution</b></font></summary>\n",
    "    \n",
    "```python \n",
    "user_NN = tf.keras.models.Sequential([\n",
    "    ### START CODE HERE ###     \n",
    "  tf.keras.layers.Dense(256, activation='relu'),\n",
    "  tf.keras.layers.Dense(128, activation='relu'),\n",
    "  tf.keras.layers.Dense(num_outputs),\n",
    "    ### END CODE HERE ###  \n",
    "])\n",
    "\n",
    "item_NN = tf.keras.models.Sequential([\n",
    "    ### START CODE HERE ###     \n",
    "  tf.keras.layers.Dense(256, activation='relu'),\n",
    "  tf.keras.layers.Dense(128, activation='relu'),\n",
    "  tf.keras.layers.Dense(num_outputs),\n",
    "    ### END CODE HERE ###  \n",
    "])\n",
    "```\n",
    "</details>\n",
    "</details>\n",
    "\n",
    "    \n"
   ]
  },
  {
   "cell_type": "markdown",
   "metadata": {},
   "source": [
    "We will use a mean squared error loss and an Adam optimizer."
   ]
  },
  {
   "cell_type": "code",
   "execution_count": 10,
   "metadata": {
    "deletable": false,
    "editable": false,
    "id": "pGK5MEUowxN4"
   },
   "outputs": [],
   "source": [
    "tf.random.set_seed(1)\n",
    "cost_fn = tf.keras.losses.MeanSquaredError()\n",
    "opt = keras.optimizers.Adam(learning_rate=0.01)\n",
    "model.compile(optimizer=opt,\n",
    "              loss=cost_fn)"
   ]
  },
  {
   "cell_type": "code",
   "execution_count": 11,
   "metadata": {
    "deletable": false,
    "editable": false,
    "id": "6zHf7eASw0tN"
   },
   "outputs": [
    {
     "name": "stdout",
     "output_type": "stream",
     "text": [
      "Epoch 1/100\n"
     ]
    },
    {
     "name": "stdout",
     "output_type": "stream",
     "text": [
      "1273/1273 [==============================] - 3s 2ms/step - loss: 0.1238\n",
      "Epoch 2/100\n",
      "1273/1273 [==============================] - 3s 2ms/step - loss: 0.1147\n",
      "Epoch 3/100\n",
      "1273/1273 [==============================] - 3s 2ms/step - loss: 0.1106\n",
      "Epoch 4/100\n",
      "1273/1273 [==============================] - 2s 2ms/step - loss: 0.1057\n",
      "Epoch 5/100\n",
      "1273/1273 [==============================] - 2s 2ms/step - loss: 0.1026\n",
      "Epoch 6/100\n",
      "1273/1273 [==============================] - 2s 2ms/step - loss: 0.0996\n",
      "Epoch 7/100\n",
      "1273/1273 [==============================] - 2s 2ms/step - loss: 0.0972\n",
      "Epoch 8/100\n",
      "1273/1273 [==============================] - 3s 2ms/step - loss: 0.0953\n",
      "Epoch 9/100\n",
      "1273/1273 [==============================] - 2s 2ms/step - loss: 0.0933\n",
      "Epoch 10/100\n",
      "1273/1273 [==============================] - 2s 2ms/step - loss: 0.0920\n",
      "Epoch 11/100\n",
      "1273/1273 [==============================] - 2s 2ms/step - loss: 0.0901\n",
      "Epoch 12/100\n",
      "1273/1273 [==============================] - 2s 2ms/step - loss: 0.0882\n",
      "Epoch 13/100\n",
      "1273/1273 [==============================] - 2s 2ms/step - loss: 0.0869\n",
      "Epoch 14/100\n",
      "1273/1273 [==============================] - 2s 2ms/step - loss: 0.0855\n",
      "Epoch 15/100\n",
      "1273/1273 [==============================] - 3s 2ms/step - loss: 0.0841\n",
      "Epoch 16/100\n",
      "1273/1273 [==============================] - 2s 2ms/step - loss: 0.0826\n",
      "Epoch 17/100\n",
      "1273/1273 [==============================] - 2s 2ms/step - loss: 0.0816\n",
      "Epoch 18/100\n",
      "1273/1273 [==============================] - 2s 2ms/step - loss: 0.0805\n",
      "Epoch 19/100\n",
      "1273/1273 [==============================] - 2s 2ms/step - loss: 0.0797\n",
      "Epoch 20/100\n",
      "1273/1273 [==============================] - 2s 2ms/step - loss: 0.0788\n",
      "Epoch 21/100\n",
      "1273/1273 [==============================] - 3s 2ms/step - loss: 0.0778\n",
      "Epoch 22/100\n",
      "1273/1273 [==============================] - 3s 2ms/step - loss: 0.0773\n",
      "Epoch 23/100\n",
      "1273/1273 [==============================] - 2s 2ms/step - loss: 0.0764\n",
      "Epoch 24/100\n",
      "1273/1273 [==============================] - 2s 2ms/step - loss: 0.0757\n",
      "Epoch 25/100\n",
      "1273/1273 [==============================] - 2s 2ms/step - loss: 0.0749\n",
      "Epoch 26/100\n",
      "1273/1273 [==============================] - 3s 2ms/step - loss: 0.0743\n",
      "Epoch 27/100\n",
      "1273/1273 [==============================] - 2s 2ms/step - loss: 0.0737\n",
      "Epoch 28/100\n",
      "1273/1273 [==============================] - 3s 2ms/step - loss: 0.0730\n",
      "Epoch 29/100\n",
      "1273/1273 [==============================] - 2s 2ms/step - loss: 0.0725\n",
      "Epoch 30/100\n",
      "1273/1273 [==============================] - 2s 2ms/step - loss: 0.0720\n",
      "Epoch 31/100\n",
      "1273/1273 [==============================] - 2s 2ms/step - loss: 0.0715\n",
      "Epoch 32/100\n",
      "1273/1273 [==============================] - 2s 2ms/step - loss: 0.0710\n",
      "Epoch 33/100\n",
      "1273/1273 [==============================] - 3s 2ms/step - loss: 0.0707\n",
      "Epoch 34/100\n",
      "1273/1273 [==============================] - 3s 2ms/step - loss: 0.0701\n",
      "Epoch 35/100\n",
      "1273/1273 [==============================] - 3s 2ms/step - loss: 0.0697\n",
      "Epoch 36/100\n",
      "1273/1273 [==============================] - 3s 2ms/step - loss: 0.0692\n",
      "Epoch 37/100\n",
      "1273/1273 [==============================] - 3s 2ms/step - loss: 0.0688\n",
      "Epoch 38/100\n",
      "1273/1273 [==============================] - 3s 2ms/step - loss: 0.0686\n",
      "Epoch 39/100\n",
      "1273/1273 [==============================] - 3s 2ms/step - loss: 0.0680\n",
      "Epoch 40/100\n",
      "1273/1273 [==============================] - 3s 2ms/step - loss: 0.0677\n",
      "Epoch 41/100\n",
      "1273/1273 [==============================] - 3s 2ms/step - loss: 0.0676\n",
      "Epoch 42/100\n",
      "1273/1273 [==============================] - 3s 2ms/step - loss: 0.0671\n",
      "Epoch 43/100\n",
      "1273/1273 [==============================] - 2s 2ms/step - loss: 0.0668\n",
      "Epoch 44/100\n",
      "1273/1273 [==============================] - 2s 2ms/step - loss: 0.0666\n",
      "Epoch 45/100\n",
      "1273/1273 [==============================] - 2s 2ms/step - loss: 0.0662\n",
      "Epoch 46/100\n",
      "1273/1273 [==============================] - 3s 2ms/step - loss: 0.0659\n",
      "Epoch 47/100\n",
      "1273/1273 [==============================] - 3s 2ms/step - loss: 0.0657\n",
      "Epoch 48/100\n",
      "1273/1273 [==============================] - 3s 2ms/step - loss: 0.0654\n",
      "Epoch 49/100\n",
      "1273/1273 [==============================] - 2s 2ms/step - loss: 0.0651\n",
      "Epoch 50/100\n",
      "1273/1273 [==============================] - 2s 2ms/step - loss: 0.0647\n",
      "Epoch 51/100\n",
      "1273/1273 [==============================] - 3s 2ms/step - loss: 0.0645\n",
      "Epoch 52/100\n",
      "1273/1273 [==============================] - 2s 2ms/step - loss: 0.0644\n",
      "Epoch 53/100\n",
      "1273/1273 [==============================] - 3s 2ms/step - loss: 0.0640\n",
      "Epoch 54/100\n",
      "1273/1273 [==============================] - 2s 2ms/step - loss: 0.0639\n",
      "Epoch 55/100\n",
      "1273/1273 [==============================] - 2s 2ms/step - loss: 0.0635\n",
      "Epoch 56/100\n",
      "1273/1273 [==============================] - 2s 2ms/step - loss: 0.0635\n",
      "Epoch 57/100\n",
      "1273/1273 [==============================] - 2s 2ms/step - loss: 0.0632\n",
      "Epoch 58/100\n",
      "1273/1273 [==============================] - 2s 2ms/step - loss: 0.0629\n",
      "Epoch 59/100\n",
      "1273/1273 [==============================] - 3s 2ms/step - loss: 0.0629\n",
      "Epoch 60/100\n",
      "1273/1273 [==============================] - 3s 2ms/step - loss: 0.0626\n",
      "Epoch 61/100\n",
      "1273/1273 [==============================] - 2s 2ms/step - loss: 0.0624\n",
      "Epoch 62/100\n",
      "1273/1273 [==============================] - 3s 2ms/step - loss: 0.0621\n",
      "Epoch 63/100\n",
      "1273/1273 [==============================] - 3s 2ms/step - loss: 0.0620\n",
      "Epoch 64/100\n",
      "1273/1273 [==============================] - 2s 2ms/step - loss: 0.0618\n",
      "Epoch 65/100\n",
      "1273/1273 [==============================] - 2s 2ms/step - loss: 0.0617\n",
      "Epoch 66/100\n",
      "1273/1273 [==============================] - 2s 2ms/step - loss: 0.0616\n",
      "Epoch 67/100\n",
      "1273/1273 [==============================] - 3s 2ms/step - loss: 0.0614\n",
      "Epoch 68/100\n",
      "1273/1273 [==============================] - 2s 2ms/step - loss: 0.0612\n",
      "Epoch 69/100\n",
      "1273/1273 [==============================] - 2s 2ms/step - loss: 0.0611\n",
      "Epoch 70/100\n",
      "1273/1273 [==============================] - 2s 2ms/step - loss: 0.0609\n",
      "Epoch 71/100\n",
      "1273/1273 [==============================] - 3s 2ms/step - loss: 0.0607\n",
      "Epoch 72/100\n",
      "1273/1273 [==============================] - 3s 2ms/step - loss: 0.0607\n",
      "Epoch 73/100\n",
      "1273/1273 [==============================] - 3s 2ms/step - loss: 0.0605\n",
      "Epoch 74/100\n",
      "1273/1273 [==============================] - 3s 2ms/step - loss: 0.0604\n",
      "Epoch 75/100\n",
      "1273/1273 [==============================] - 3s 2ms/step - loss: 0.0602\n",
      "Epoch 76/100\n",
      "1273/1273 [==============================] - 2s 2ms/step - loss: 0.0601\n",
      "Epoch 77/100\n",
      "1273/1273 [==============================] - 2s 2ms/step - loss: 0.0600\n",
      "Epoch 78/100\n",
      "1273/1273 [==============================] - 3s 2ms/step - loss: 0.0599\n",
      "Epoch 79/100\n",
      "1273/1273 [==============================] - 3s 2ms/step - loss: 0.0598\n",
      "Epoch 80/100\n",
      "1273/1273 [==============================] - 2s 2ms/step - loss: 0.0596\n",
      "Epoch 81/100\n",
      "1273/1273 [==============================] - 2s 2ms/step - loss: 0.0595\n",
      "Epoch 82/100\n",
      "1273/1273 [==============================] - 2s 2ms/step - loss: 0.0593\n",
      "Epoch 83/100\n",
      "1273/1273 [==============================] - 2s 2ms/step - loss: 0.0593\n",
      "Epoch 84/100\n",
      "1273/1273 [==============================] - 2s 2ms/step - loss: 0.0592\n",
      "Epoch 85/100\n",
      "1273/1273 [==============================] - 3s 2ms/step - loss: 0.0590\n",
      "Epoch 86/100\n",
      "1273/1273 [==============================] - 3s 2ms/step - loss: 0.0590\n",
      "Epoch 87/100\n",
      "1273/1273 [==============================] - 2s 2ms/step - loss: 0.0588\n",
      "Epoch 88/100\n",
      "1273/1273 [==============================] - 2s 2ms/step - loss: 0.0587\n",
      "Epoch 89/100\n",
      "1273/1273 [==============================] - 2s 2ms/step - loss: 0.0586\n",
      "Epoch 90/100\n",
      "1273/1273 [==============================] - 2s 2ms/step - loss: 0.0586\n",
      "Epoch 91/100\n",
      "1273/1273 [==============================] - 3s 2ms/step - loss: 0.0584\n",
      "Epoch 92/100\n",
      "1273/1273 [==============================] - 3s 2ms/step - loss: 0.0582\n",
      "Epoch 93/100\n",
      "1273/1273 [==============================] - 3s 2ms/step - loss: 0.0582\n",
      "Epoch 94/100\n",
      "1273/1273 [==============================] - 2s 2ms/step - loss: 0.0582\n",
      "Epoch 95/100\n",
      "1273/1273 [==============================] - 3s 3ms/step - loss: 0.0582\n",
      "Epoch 96/100\n",
      "1273/1273 [==============================] - 4s 3ms/step - loss: 0.0580\n",
      "Epoch 97/100\n",
      "1273/1273 [==============================] - 3s 2ms/step - loss: 0.0579\n",
      "Epoch 98/100\n",
      "1273/1273 [==============================] - 3s 2ms/step - loss: 0.0578\n",
      "Epoch 99/100\n",
      "1273/1273 [==============================] - 4s 3ms/step - loss: 0.0577\n",
      "Epoch 100/100\n",
      "1273/1273 [==============================] - 3s 2ms/step - loss: 0.0576\n"
     ]
    },
    {
     "data": {
      "text/plain": [
       "<keras.src.callbacks.History at 0x1ed978bbd00>"
      ]
     },
     "execution_count": 11,
     "metadata": {},
     "output_type": "execute_result"
    }
   ],
   "source": [
    "tf.random.set_seed(1)\n",
    "model.fit([user_train[:, u_s:], item_train[:, i_s:]], y_train, epochs=100)"
   ]
  },
  {
   "cell_type": "markdown",
   "metadata": {},
   "source": [
    "Evaluate the model to determine loss on the test data. "
   ]
  },
  {
   "cell_type": "code",
   "execution_count": 12,
   "metadata": {
    "deletable": false,
    "editable": false
   },
   "outputs": [
    {
     "name": "stdout",
     "output_type": "stream",
     "text": [
      "319/319 [==============================] - 1s 1ms/step - loss: 0.0767\n"
     ]
    },
    {
     "data": {
      "text/plain": [
       "0.07674766331911087"
      ]
     },
     "execution_count": 12,
     "metadata": {},
     "output_type": "execute_result"
    }
   ],
   "source": [
    "model.evaluate([user_test[:, u_s:], item_test[:, i_s:]], y_test)"
   ]
  },
  {
   "cell_type": "code",
   "execution_count": 13,
   "metadata": {},
   "outputs": [],
   "source": [
    "filename = 'finalized_model.sav'\n",
    "pickle.dump(model, open(filename, 'wb'))"
   ]
  },
  {
   "cell_type": "markdown",
   "metadata": {},
   "source": [
    "It is comparable to the training loss indicating the model has not substantially overfit the training data."
   ]
  },
  {
   "cell_type": "markdown",
   "metadata": {
    "id": "Xsre-gquwEls"
   },
   "source": [
    "<a name=\"5\"></a>\n",
    "## 5 - Predictions\n",
    "Below, you'll use your model to make predictions in a number of circumstances. \n",
    "<a name=\"5.1\"></a>\n",
    "### 5.1 - Predictions for a new user\n",
    "First, we'll create a new user and have the model suggest courses for that user. After you have tried this on the example user content, feel free to change the user content to match your own preferences and see what the model suggests. Note that ratings are between 0.5 and 5.0, inclusive, in half-step increments."
   ]
  },
  {
   "cell_type": "code",
   "execution_count": 14,
   "metadata": {
    "deletable": false,
    "id": "4_7nZyPiVJ4r"
   },
   "outputs": [],
   "source": [
    "new_user_id = 5000\n",
    "new_rating_ave = 0.0\n",
    "new_Course_Difficulty = 0.0\n",
    "new_Business_And_Management = 5.0\n",
    "new_Design = 0.0\n",
    "new_Environmental_Science = 0.0\n",
    "new_Arts_And_Humanities = 5.0\n",
    "new_Computer_Science = 0.0\n",
    "new_Data_Science = 0.0\n",
    "new_Math_And_Logic = 0.0\n",
    "new_Language_Learning = 5.0\n",
    "new_Health = 0.0\n",
    "new_Social_science = 0.0\n",
    "new_Electrical_And_Mechanical_Engineering = 0.0\n",
    "new_Digital_Marketing = 0.0\n",
    "new_Physics_And_Astronomy = 0.0\n",
    "new_rating_count = 3\n",
    "\n",
    "user_vec = np.array([[new_user_id, new_rating_count, new_rating_ave,\n",
    "                      new_Course_Difficulty, new_Business_And_Management, new_Design, new_Environmental_Science,\n",
    "                      new_Arts_And_Humanities, new_Computer_Science, new_Data_Science,\n",
    "                      new_Math_And_Logic, new_Language_Learning, new_Health, new_Social_science ,\n",
    "                      new_Electrical_And_Mechanical_Engineering, new_Digital_Marketing, new_Physics_And_Astronomy]])"
   ]
  },
  {
   "cell_type": "code",
   "execution_count": 44,
   "metadata": {
    "deletable": false,
    "editable": false
   },
   "outputs": [
    {
     "name": "stdout",
     "output_type": "stream",
     "text": [
      "27/27 [==============================] - 0s 3ms/step\n"
     ]
    }
   ],
   "source": [
    "# generate and replicate the user vector to match the number movies in the data set.\n",
    "user_vecs = gen_user_vecs(user_vec,len(item_vecs))\n",
    "\n",
    "# scale our user and item vectors\n",
    "suser_vecs = scalerUser.transform(user_vecs)\n",
    "sitem_vecs = scalerItem.transform(item_vecs)\n",
    "\n",
    "# make a prediction\n",
    "y_p = model.predict([suser_vecs[:, u_s:], sitem_vecs[:, i_s:]])\n",
    "\n",
    "# unscale y prediction \n",
    "y_pu = scalerTarget.inverse_transform(y_p)\n",
    "\n",
    "# sort the results, highest prediction first\n",
    "sorted_index = np.argsort(-y_pu,axis=0).reshape(-1).tolist()  #negate to get largest rating first\n",
    "sorted_ypu   = y_pu[sorted_index]\n",
    "sorted_items = item_vecs[sorted_index]  #using unscaled vectors for display\n",
    "\n",
    "table=print_pred_movies(sorted_ypu, sorted_items, movie_dict, maxcount = 10)"
   ]
  },
  {
   "cell_type": "code",
   "execution_count": 45,
   "metadata": {},
   "outputs": [],
   "source": [
    "with open('output.html', 'w') as file:\n",
    "    file.write(table)"
   ]
  },
  {
   "cell_type": "markdown",
   "metadata": {
    "tags": []
   },
   "source": [
    "<a name=\"5.2\"></a>\n",
    "### 5.2 - Predictions for an existing user.\n",
    "Let's look at the predictions for \"user 2\", one of the users in the data set. We can compare the predicted ratings with the course's ratings."
   ]
  },
  {
   "cell_type": "code",
   "execution_count": 43,
   "metadata": {
    "deletable": false,
    "editable": false
   },
   "outputs": [
    {
     "name": "stdout",
     "output_type": "stream",
     "text": [
      "27/27 [==============================] - 0s 2ms/step\n"
     ]
    },
    {
     "data": {
      "text/html": [
       "<table>\n",
       "<thead>\n",
       "<tr><th style=\"text-align: right;\">  y_p</th><th style=\"text-align: right;\">  y</th><th style=\"text-align: right;\">  user</th><th>user genre ave           </th><th style=\"text-align: right;\">  movie rating ave</th><th style=\"text-align: right;\">  movie id</th><th>title                                                                    </th><th>genres                                                                                                  </th></tr>\n",
       "</thead>\n",
       "<tbody>\n",
       "<tr><td style=\"text-align: right;\">  4.6</td><td style=\"text-align: right;\">5.0</td><td style=\"text-align: right;\">     2</td><td>[4.0]                    </td><td style=\"text-align: right;\">               4.3</td><td style=\"text-align: right;\">     80906</td><td>Data Science Specialization 2&quot; by the Case Western Reserve University &quot;  </td><td>Data-Science                                                                                            </td></tr>\n",
       "<tr><td style=\"text-align: right;\">  4.4</td><td style=\"text-align: right;\">5.0</td><td style=\"text-align: right;\">     2</td><td>[4.0,4.1,4.0]            </td><td style=\"text-align: right;\">               3.9</td><td style=\"text-align: right;\">    106782</td><td>Advanced MATLAB: Data Types and Time Series Analysis 2 - Coursera        </td><td>Arts-And-Humanities|Computer-Science|Math-And-Logic                                                     </td></tr>\n",
       "<tr><td style=\"text-align: right;\">  4.4</td><td style=\"text-align: right;\">3.5</td><td style=\"text-align: right;\">     2</td><td>[4.0,3.9,3.9]            </td><td style=\"text-align: right;\">               3.9</td><td style=\"text-align: right;\">    115713</td><td>Calculus for Machine Learning and Data Science 1 - Coursera              </td><td>Math-And-Logic|Digital-Marketing|Physics-And-Astronomy                                                  </td></tr>\n",
       "<tr><td style=\"text-align: right;\">  4.4</td><td style=\"text-align: right;\">5.0</td><td style=\"text-align: right;\">     2</td><td>[4.0,4.2,3.9,3.9]        </td><td style=\"text-align: right;\">               3.8</td><td style=\"text-align: right;\">    122882</td><td>Cosmic Microwave Background 2 - Universitat Autònoma de Barcelona        </td><td>Course-Difficulty|Business-And-Management|Digital-Marketing|Physics-And-Astronomy                       </td></tr>\n",
       "<tr><td style=\"text-align: right;\">  4.3</td><td style=\"text-align: right;\">3.5</td><td style=\"text-align: right;\">     2</td><td>[4.0,4.0]                </td><td style=\"text-align: right;\">               3.9</td><td style=\"text-align: right;\">     99114</td><td>Introduction to Mathematical Thinking&quot; by Stanford University&quot;           </td><td>Course-Difficulty|Math-And-Logic                                                                        </td></tr>\n",
       "<tr><td style=\"text-align: right;\">  4.3</td><td style=\"text-align: right;\">4.0</td><td style=\"text-align: right;\">     2</td><td>[4.0,4.1,4.0,4.0,3.9,3.9]</td><td style=\"text-align: right;\">               4.1</td><td style=\"text-align: right;\">     79132</td><td>Super-Earths and Life 2 - Harvard University                             </td><td>Course-Difficulty|Computer-Science|Math-And-Logic|Social-Science|Digital-Marketing|Physics-And-Astronomy</td></tr>\n",
       "<tr><td style=\"text-align: right;\">  4.2</td><td style=\"text-align: right;\">5.0</td><td style=\"text-align: right;\">     2</td><td>[4.0]                    </td><td style=\"text-align: right;\">               3.6</td><td style=\"text-align: right;\">     60756</td><td>Muslim World - Villanova University                                      </td><td>Arts-And-Humanities                                                                                     </td></tr>\n",
       "<tr><td style=\"text-align: right;\">  4.2</td><td style=\"text-align: right;\">3.5</td><td style=\"text-align: right;\">     2</td><td>[4.0,4.2,4.1]            </td><td style=\"text-align: right;\">               4.0</td><td style=\"text-align: right;\">     91529</td><td>Business Strategies for Social Impact 3 - University of Pennsylvania     </td><td>Course-Difficulty|Business-And-Management|Computer-Science                                              </td></tr>\n",
       "<tr><td style=\"text-align: right;\">  4.2</td><td style=\"text-align: right;\">4.5</td><td style=\"text-align: right;\">     2</td><td>[4.0,4.1,4.0]            </td><td style=\"text-align: right;\">               4.2</td><td style=\"text-align: right;\">     58559</td><td>Calculus: Single Variable 2 - University of Pennsylvania                 </td><td>Course-Difficulty|Computer-Science|Math-And-Logic                                                       </td></tr>\n",
       "<tr><td style=\"text-align: right;\">  4.1</td><td style=\"text-align: right;\">4.0</td><td style=\"text-align: right;\">     2</td><td>[4.1,4.0,3.9]            </td><td style=\"text-align: right;\">               4.3</td><td style=\"text-align: right;\">     48516</td><td>Quantum Physics I and Quantum Physics II - Havard                        </td><td>Computer-Science|Math-And-Logic|Physics-And-Astronomy                                                   </td></tr>\n",
       "<tr><td style=\"text-align: right;\">  4.0</td><td style=\"text-align: right;\">4.0</td><td style=\"text-align: right;\">     2</td><td>[4.0,4.1,3.9]            </td><td style=\"text-align: right;\">               4.0</td><td style=\"text-align: right;\">      6874</td><td>Astronomy: Exploring Time and Space - University of Arizona              </td><td>Course-Difficulty|Computer-Science|Physics-And-Astronomy                                                </td></tr>\n",
       "<tr><td style=\"text-align: right;\">  4.0</td><td style=\"text-align: right;\">4.5</td><td style=\"text-align: right;\">     2</td><td>[4.1,4.0,3.9]            </td><td style=\"text-align: right;\">               4.0</td><td style=\"text-align: right;\">     80489</td><td>Pre-Algebra 3 - Villanova University                                     </td><td>Computer-Science|Math-And-Logic|Physics-And-Astronomy                                                   </td></tr>\n",
       "<tr><td style=\"text-align: right;\">  4.0</td><td style=\"text-align: right;\">3.0</td><td style=\"text-align: right;\">     2</td><td>[3.9]                    </td><td style=\"text-align: right;\">               4.0</td><td style=\"text-align: right;\">    109487</td><td>Excel: Advanced Formulas and Functions 2 - LinkedIn Learning             </td><td>Digital-Marketing                                                                                       </td></tr>\n",
       "<tr><td style=\"text-align: right;\">  3.9</td><td style=\"text-align: right;\">4.5</td><td style=\"text-align: right;\">     2</td><td>[4.0,4.0]                </td><td style=\"text-align: right;\">               4.1</td><td style=\"text-align: right;\">     68157</td><td>Computational Thinking using Python - Michigan State University          </td><td>Course-Difficulty|Math-And-Logic                                                                        </td></tr>\n",
       "<tr><td style=\"text-align: right;\">  3.8</td><td style=\"text-align: right;\">4.0</td><td style=\"text-align: right;\">     2</td><td>[4.0,4.0,3.9]            </td><td style=\"text-align: right;\">               4.0</td><td style=\"text-align: right;\">     74458</td><td>Exoplanets - University of Geneva                                        </td><td>Math-And-Logic|Social-Science|Physics-And-Astronomy                                                     </td></tr>\n",
       "<tr><td style=\"text-align: right;\">  3.8</td><td style=\"text-align: right;\">3.5</td><td style=\"text-align: right;\">     2</td><td>[4.0,4.1,4.0,3.9]        </td><td style=\"text-align: right;\">               3.8</td><td style=\"text-align: right;\">      8798</td><td>Fundamentals of Physics 2 - RIT (Rochester Institute of Technology)      </td><td>Course-Difficulty|Computer-Science|Math-And-Logic|Physics-And-Astronomy                                 </td></tr>\n",
       "<tr><td style=\"text-align: right;\">  3.8</td><td style=\"text-align: right;\">4.0</td><td style=\"text-align: right;\">     2</td><td>[4.0]                    </td><td style=\"text-align: right;\">               4.0</td><td style=\"text-align: right;\">    112552</td><td>Probability &amp; Statistics for Machine Learning &amp; Data Science 3 - Coursera</td><td>Math-And-Logic                                                                                          </td></tr>\n",
       "<tr><td style=\"text-align: right;\">  3.8</td><td style=\"text-align: right;\">3.0</td><td style=\"text-align: right;\">     2</td><td>[4.0,4.0,3.0]            </td><td style=\"text-align: right;\">               3.9</td><td style=\"text-align: right;\">     71535</td><td>Japanese Culture Through Rare Books - Keio University                    </td><td>Course-Difficulty|Arts-And-Humanities|Health                                                            </td></tr>\n",
       "<tr><td style=\"text-align: right;\">  3.7</td><td style=\"text-align: right;\">5.0</td><td style=\"text-align: right;\">     2</td><td>[4.0]                    </td><td style=\"text-align: right;\">               3.7</td><td style=\"text-align: right;\">     89774</td><td>Discrete Mathematics: An Open Introduction 4 - Coursera                  </td><td>Math-And-Logic                                                                                          </td></tr>\n",
       "<tr><td style=\"text-align: right;\">  3.6</td><td style=\"text-align: right;\">4.0</td><td style=\"text-align: right;\">     2</td><td>[4.0,4.0]                </td><td style=\"text-align: right;\">               3.2</td><td style=\"text-align: right;\">     46970</td><td>The Science of Happiness - University of California, Berkeley            </td><td>Course-Difficulty|Arts-And-Humanities                                                                   </td></tr>\n",
       "<tr><td style=\"text-align: right;\">  3.3</td><td style=\"text-align: right;\">3.0</td><td style=\"text-align: right;\">     2</td><td>[4.0,4.0]                </td><td style=\"text-align: right;\">               4.0</td><td style=\"text-align: right;\">     77455</td><td>The Postmodern 2 - Wesleyan University                                   </td><td>Arts-And-Humanities|Data-Science                                                                        </td></tr>\n",
       "<tr><td style=\"text-align: right;\">  3.3</td><td style=\"text-align: right;\">2.5</td><td style=\"text-align: right;\">     2</td><td>[4.0,3.9]                </td><td style=\"text-align: right;\">               3.5</td><td style=\"text-align: right;\">     91658</td><td>Understanding Einstein: The Special Theory of Relativity - Havard        </td><td>Math-And-Logic|Physics-And-Astronomy                                                                    </td></tr>\n",
       "</tbody>\n",
       "</table>"
      ],
      "text/plain": [
       "'<table>\\n<thead>\\n<tr><th style=\"text-align: right;\">  y_p</th><th style=\"text-align: right;\">  y</th><th style=\"text-align: right;\">  user</th><th>user genre ave           </th><th style=\"text-align: right;\">  movie rating ave</th><th style=\"text-align: right;\">  movie id</th><th>title                                                                    </th><th>genres                                                                                                  </th></tr>\\n</thead>\\n<tbody>\\n<tr><td style=\"text-align: right;\">  4.6</td><td style=\"text-align: right;\">5.0</td><td style=\"text-align: right;\">     2</td><td>[4.0]                    </td><td style=\"text-align: right;\">               4.3</td><td style=\"text-align: right;\">     80906</td><td>Data Science Specialization 2&quot; by the Case Western Reserve University &quot;  </td><td>Data-Science                                                                                            </td></tr>\\n<tr><td style=\"text-align: right;\">  4.4</td><td style=\"text-align: right;\">5.0</td><td style=\"text-align: right;\">     2</td><td>[4.0,4.1,4.0]            </td><td style=\"text-align: right;\">               3.9</td><td style=\"text-align: right;\">    106782</td><td>Advanced MATLAB: Data Types and Time Series Analysis 2 - Coursera        </td><td>Arts-And-Humanities|Computer-Science|Math-And-Logic                                                     </td></tr>\\n<tr><td style=\"text-align: right;\">  4.4</td><td style=\"text-align: right;\">3.5</td><td style=\"text-align: right;\">     2</td><td>[4.0,3.9,3.9]            </td><td style=\"text-align: right;\">               3.9</td><td style=\"text-align: right;\">    115713</td><td>Calculus for Machine Learning and Data Science 1 - Coursera              </td><td>Math-And-Logic|Digital-Marketing|Physics-And-Astronomy                                                  </td></tr>\\n<tr><td style=\"text-align: right;\">  4.4</td><td style=\"text-align: right;\">5.0</td><td style=\"text-align: right;\">     2</td><td>[4.0,4.2,3.9,3.9]        </td><td style=\"text-align: right;\">               3.8</td><td style=\"text-align: right;\">    122882</td><td>Cosmic Microwave Background 2 - Universitat Autònoma de Barcelona        </td><td>Course-Difficulty|Business-And-Management|Digital-Marketing|Physics-And-Astronomy                       </td></tr>\\n<tr><td style=\"text-align: right;\">  4.3</td><td style=\"text-align: right;\">3.5</td><td style=\"text-align: right;\">     2</td><td>[4.0,4.0]                </td><td style=\"text-align: right;\">               3.9</td><td style=\"text-align: right;\">     99114</td><td>Introduction to Mathematical Thinking&quot; by Stanford University&quot;           </td><td>Course-Difficulty|Math-And-Logic                                                                        </td></tr>\\n<tr><td style=\"text-align: right;\">  4.3</td><td style=\"text-align: right;\">4.0</td><td style=\"text-align: right;\">     2</td><td>[4.0,4.1,4.0,4.0,3.9,3.9]</td><td style=\"text-align: right;\">               4.1</td><td style=\"text-align: right;\">     79132</td><td>Super-Earths and Life 2 - Harvard University                             </td><td>Course-Difficulty|Computer-Science|Math-And-Logic|Social-Science|Digital-Marketing|Physics-And-Astronomy</td></tr>\\n<tr><td style=\"text-align: right;\">  4.2</td><td style=\"text-align: right;\">5.0</td><td style=\"text-align: right;\">     2</td><td>[4.0]                    </td><td style=\"text-align: right;\">               3.6</td><td style=\"text-align: right;\">     60756</td><td>Muslim World - Villanova University                                      </td><td>Arts-And-Humanities                                                                                     </td></tr>\\n<tr><td style=\"text-align: right;\">  4.2</td><td style=\"text-align: right;\">3.5</td><td style=\"text-align: right;\">     2</td><td>[4.0,4.2,4.1]            </td><td style=\"text-align: right;\">               4.0</td><td style=\"text-align: right;\">     91529</td><td>Business Strategies for Social Impact 3 - University of Pennsylvania     </td><td>Course-Difficulty|Business-And-Management|Computer-Science                                              </td></tr>\\n<tr><td style=\"text-align: right;\">  4.2</td><td style=\"text-align: right;\">4.5</td><td style=\"text-align: right;\">     2</td><td>[4.0,4.1,4.0]            </td><td style=\"text-align: right;\">               4.2</td><td style=\"text-align: right;\">     58559</td><td>Calculus: Single Variable 2 - University of Pennsylvania                 </td><td>Course-Difficulty|Computer-Science|Math-And-Logic                                                       </td></tr>\\n<tr><td style=\"text-align: right;\">  4.1</td><td style=\"text-align: right;\">4.0</td><td style=\"text-align: right;\">     2</td><td>[4.1,4.0,3.9]            </td><td style=\"text-align: right;\">               4.3</td><td style=\"text-align: right;\">     48516</td><td>Quantum Physics I and Quantum Physics II - Havard                        </td><td>Computer-Science|Math-And-Logic|Physics-And-Astronomy                                                   </td></tr>\\n<tr><td style=\"text-align: right;\">  4.0</td><td style=\"text-align: right;\">4.0</td><td style=\"text-align: right;\">     2</td><td>[4.0,4.1,3.9]            </td><td style=\"text-align: right;\">               4.0</td><td style=\"text-align: right;\">      6874</td><td>Astronomy: Exploring Time and Space - University of Arizona              </td><td>Course-Difficulty|Computer-Science|Physics-And-Astronomy                                                </td></tr>\\n<tr><td style=\"text-align: right;\">  4.0</td><td style=\"text-align: right;\">4.5</td><td style=\"text-align: right;\">     2</td><td>[4.1,4.0,3.9]            </td><td style=\"text-align: right;\">               4.0</td><td style=\"text-align: right;\">     80489</td><td>Pre-Algebra 3 - Villanova University                                     </td><td>Computer-Science|Math-And-Logic|Physics-And-Astronomy                                                   </td></tr>\\n<tr><td style=\"text-align: right;\">  4.0</td><td style=\"text-align: right;\">3.0</td><td style=\"text-align: right;\">     2</td><td>[3.9]                    </td><td style=\"text-align: right;\">               4.0</td><td style=\"text-align: right;\">    109487</td><td>Excel: Advanced Formulas and Functions 2 - LinkedIn Learning             </td><td>Digital-Marketing                                                                                       </td></tr>\\n<tr><td style=\"text-align: right;\">  3.9</td><td style=\"text-align: right;\">4.5</td><td style=\"text-align: right;\">     2</td><td>[4.0,4.0]                </td><td style=\"text-align: right;\">               4.1</td><td style=\"text-align: right;\">     68157</td><td>Computational Thinking using Python - Michigan State University          </td><td>Course-Difficulty|Math-And-Logic                                                                        </td></tr>\\n<tr><td style=\"text-align: right;\">  3.8</td><td style=\"text-align: right;\">4.0</td><td style=\"text-align: right;\">     2</td><td>[4.0,4.0,3.9]            </td><td style=\"text-align: right;\">               4.0</td><td style=\"text-align: right;\">     74458</td><td>Exoplanets - University of Geneva                                        </td><td>Math-And-Logic|Social-Science|Physics-And-Astronomy                                                     </td></tr>\\n<tr><td style=\"text-align: right;\">  3.8</td><td style=\"text-align: right;\">3.5</td><td style=\"text-align: right;\">     2</td><td>[4.0,4.1,4.0,3.9]        </td><td style=\"text-align: right;\">               3.8</td><td style=\"text-align: right;\">      8798</td><td>Fundamentals of Physics 2 - RIT (Rochester Institute of Technology)      </td><td>Course-Difficulty|Computer-Science|Math-And-Logic|Physics-And-Astronomy                                 </td></tr>\\n<tr><td style=\"text-align: right;\">  3.8</td><td style=\"text-align: right;\">4.0</td><td style=\"text-align: right;\">     2</td><td>[4.0]                    </td><td style=\"text-align: right;\">               4.0</td><td style=\"text-align: right;\">    112552</td><td>Probability &amp; Statistics for Machine Learning &amp; Data Science 3 - Coursera</td><td>Math-And-Logic                                                                                          </td></tr>\\n<tr><td style=\"text-align: right;\">  3.8</td><td style=\"text-align: right;\">3.0</td><td style=\"text-align: right;\">     2</td><td>[4.0,4.0,3.0]            </td><td style=\"text-align: right;\">               3.9</td><td style=\"text-align: right;\">     71535</td><td>Japanese Culture Through Rare Books - Keio University                    </td><td>Course-Difficulty|Arts-And-Humanities|Health                                                            </td></tr>\\n<tr><td style=\"text-align: right;\">  3.7</td><td style=\"text-align: right;\">5.0</td><td style=\"text-align: right;\">     2</td><td>[4.0]                    </td><td style=\"text-align: right;\">               3.7</td><td style=\"text-align: right;\">     89774</td><td>Discrete Mathematics: An Open Introduction 4 - Coursera                  </td><td>Math-And-Logic                                                                                          </td></tr>\\n<tr><td style=\"text-align: right;\">  3.6</td><td style=\"text-align: right;\">4.0</td><td style=\"text-align: right;\">     2</td><td>[4.0,4.0]                </td><td style=\"text-align: right;\">               3.2</td><td style=\"text-align: right;\">     46970</td><td>The Science of Happiness - University of California, Berkeley            </td><td>Course-Difficulty|Arts-And-Humanities                                                                   </td></tr>\\n<tr><td style=\"text-align: right;\">  3.3</td><td style=\"text-align: right;\">3.0</td><td style=\"text-align: right;\">     2</td><td>[4.0,4.0]                </td><td style=\"text-align: right;\">               4.0</td><td style=\"text-align: right;\">     77455</td><td>The Postmodern 2 - Wesleyan University                                   </td><td>Arts-And-Humanities|Data-Science                                                                        </td></tr>\\n<tr><td style=\"text-align: right;\">  3.3</td><td style=\"text-align: right;\">2.5</td><td style=\"text-align: right;\">     2</td><td>[4.0,3.9]                </td><td style=\"text-align: right;\">               3.5</td><td style=\"text-align: right;\">     91658</td><td>Understanding Einstein: The Special Theory of Relativity - Havard        </td><td>Math-And-Logic|Physics-And-Astronomy                                                                    </td></tr>\\n</tbody>\\n</table>'"
      ]
     },
     "execution_count": 43,
     "metadata": {},
     "output_type": "execute_result"
    }
   ],
   "source": [
    "uid = 2 \n",
    "# form a set of user vectors. This is the same vector, transformed and repeated.\n",
    "user_vecs, y_vecs = get_user_vecs(uid, user_train_unscaled, item_vecs, user_to_genre)\n",
    "\n",
    "# scale our user and item vectors\n",
    "suser_vecs = scalerUser.transform(user_vecs)\n",
    "sitem_vecs = scalerItem.transform(item_vecs)\n",
    "\n",
    "# make a prediction\n",
    "y_p = model.predict([suser_vecs[:, u_s:], sitem_vecs[:, i_s:]])\n",
    "\n",
    "# unscale y prediction \n",
    "y_pu = scalerTarget.inverse_transform(y_p)\n",
    "\n",
    "# sort the results, highest prediction first\n",
    "sorted_index = np.argsort(-y_pu,axis=0).reshape(-1).tolist()  #negate to get largest rating first\n",
    "sorted_ypu   = y_pu[sorted_index]\n",
    "sorted_items = item_vecs[sorted_index]  #using unscaled vectors for display\n",
    "sorted_user  = user_vecs[sorted_index]\n",
    "sorted_y     = y_vecs[sorted_index]\n",
    "\n",
    "#print sorted predictions for movies rated by the user\n",
    "print_existing_user(sorted_ypu, sorted_y.reshape(-1,1), sorted_user, sorted_items, ivs, uvs, movie_dict, maxcount = 50)"
   ]
  },
  {
   "cell_type": "markdown",
   "metadata": {},
   "source": [
    "The model prediction is generally within 1 of the actual rating though it is not a very accurate predictor of how a user rates specific course. This is especially true if the user rating is significantly different than the user's genre average. You can vary the user id above to try different users. Not all user id's were used in the training set."
   ]
  }
 ],
 "metadata": {
  "celltoolbar": "Éditer les Méta-Données",
  "colab": {
   "authorship_tag": "ABX9TyOFYdA6zQJ1FpgYwYmRIeXa",
   "collapsed_sections": [],
   "name": "Recsys_NN.ipynb",
   "private_outputs": true,
   "provenance": [
    {
     "file_id": "1RO0HLb7kRE0Tj_0D4E5I-vQz2QLu3CUm",
     "timestamp": 1655169179306
    }
   ]
  },
  "gpuClass": "standard",
  "kernelspec": {
   "display_name": "Python 3",
   "language": "python",
   "name": "python3"
  },
  "language_info": {
   "codemirror_mode": {
    "name": "ipython",
    "version": 3
   },
   "file_extension": ".py",
   "mimetype": "text/x-python",
   "name": "python",
   "nbconvert_exporter": "python",
   "pygments_lexer": "ipython3",
   "version": "3.10.9"
  }
 },
 "nbformat": 4,
 "nbformat_minor": 4
}
